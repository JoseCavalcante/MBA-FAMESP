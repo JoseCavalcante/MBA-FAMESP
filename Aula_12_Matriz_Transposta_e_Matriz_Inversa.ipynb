{
  "nbformat": 4,
  "nbformat_minor": 0,
  "metadata": {
    "colab": {
      "name": "Aula 12 Matriz Transposta e Matriz Inversa.ipynb",
      "provenance": [],
      "authorship_tag": "ABX9TyN5R6M4yGE5BEO1agfk4cb+",
      "include_colab_link": true
    },
    "kernelspec": {
      "name": "python3",
      "display_name": "Python 3"
    },
    "language_info": {
      "name": "python"
    }
  },
  "cells": [
    {
      "cell_type": "markdown",
      "metadata": {
        "id": "view-in-github",
        "colab_type": "text"
      },
      "source": [
        "<a href=\"https://colab.research.google.com/github/JoseCavalcante/MBA-FAMESP/blob/main/Aula_12_Matriz_Transposta_e_Matriz_Inversa.ipynb\" target=\"_parent\"><img src=\"https://colab.research.google.com/assets/colab-badge.svg\" alt=\"Open In Colab\"/></a>"
      ]
    },
    {
      "cell_type": "code",
      "execution_count": null,
      "metadata": {
        "id": "Kl1iApOMz73y"
      },
      "outputs": [],
      "source": [
        ""
      ]
    },
    {
      "cell_type": "markdown",
      "source": [
        "#Exercicio Aula 12 - Matriz Transposta e Matriz Inversa\n"
      ],
      "metadata": {
        "id": "F_evA2FD0PkQ"
      }
    },
    {
      "cell_type": "code",
      "source": [
        "import numpy as np"
      ],
      "metadata": {
        "id": "x7XF0CIs1LVS"
      },
      "execution_count": 26,
      "outputs": []
    },
    {
      "cell_type": "code",
      "source": [
        "arrX = np.array( [ [1,12],[3,10],[2,11]] )\n",
        "arrX"
      ],
      "metadata": {
        "colab": {
          "base_uri": "https://localhost:8080/"
        },
        "id": "uLbQdEpz0bZt",
        "outputId": "bf62af15-cf98-4664-c31d-3c60bea9c492"
      },
      "execution_count": 27,
      "outputs": [
        {
          "output_type": "execute_result",
          "data": {
            "text/plain": [
              "array([[ 1, 12],\n",
              "       [ 3, 10],\n",
              "       [ 2, 11]])"
            ]
          },
          "metadata": {},
          "execution_count": 27
        }
      ]
    },
    {
      "cell_type": "code",
      "source": [
        "arrY = np.array([[5],[4],[7]])\n",
        "arrY"
      ],
      "metadata": {
        "colab": {
          "base_uri": "https://localhost:8080/"
        },
        "id": "vGHx-iRG1pnP",
        "outputId": "ebfb9c01-febf-47fb-e438-80bf6a2668c9"
      },
      "execution_count": 28,
      "outputs": [
        {
          "output_type": "execute_result",
          "data": {
            "text/plain": [
              "array([[5],\n",
              "       [4],\n",
              "       [7]])"
            ]
          },
          "metadata": {},
          "execution_count": 28
        }
      ]
    }
  ]
}